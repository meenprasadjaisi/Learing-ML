{
  "nbformat": 4,
  "nbformat_minor": 0,
  "metadata": {
    "colab": {
      "provenance": [],
      "authorship_tag": "ABX9TyPQBKJaNpu0i/0R+tQAhQsv",
      "include_colab_link": true
    },
    "kernelspec": {
      "name": "python3",
      "display_name": "Python 3"
    },
    "language_info": {
      "name": "python"
    }
  },
  "cells": [
    {
      "cell_type": "markdown",
      "metadata": {
        "id": "view-in-github",
        "colab_type": "text"
      },
      "source": [
        "<a href=\"https://colab.research.google.com/github/meenprasadjaisi/Learing-ML/blob/main/Web_Scraping.ipynb\" target=\"_parent\"><img src=\"https://colab.research.google.com/assets/colab-badge.svg\" alt=\"Open In Colab\"/></a>"
      ]
    },
    {
      "cell_type": "markdown",
      "source": [
        "## Fetching data using Web Scraping"
      ],
      "metadata": {
        "id": "opMF6DAEMl46"
      }
    },
    {
      "cell_type": "code",
      "execution_count": 1,
      "metadata": {
        "id": "-EQ1Utp_Mjet"
      },
      "outputs": [],
      "source": [
        "import numpy as np\n",
        "import pandas as pd\n",
        "from bs4 import BeautifulSoup\n",
        "import requests"
      ]
    },
    {
      "cell_type": "markdown",
      "source": [
        "if response code is 403"
      ],
      "metadata": {
        "id": "FLiysZ7TNFZh"
      }
    },
    {
      "cell_type": "markdown",
      "source": [
        "headers={'User-Agent':'Mozilla/5.0 (Windows NT 6.3; Win 64 ; x64) Apple WeKit /537.36(KHTML , like Gecko) Chrome/80.0.3987.162 Safari/537.36'} -requests.get('url',headers=headers).text"
      ],
      "metadata": {
        "id": "IGC_cTEONLrY"
      }
    },
    {
      "cell_type": "code",
      "source": [
        "website = requests.get('https://www.ambitionbox.com/list-of-companies?page=1').text"
      ],
      "metadata": {
        "id": "f9o-6TsxNBks"
      },
      "execution_count": 2,
      "outputs": []
    },
    {
      "cell_type": "code",
      "source": [
        "# website"
      ],
      "metadata": {
        "id": "wzXzALkMOYfO"
      },
      "execution_count": 12,
      "outputs": []
    },
    {
      "cell_type": "code",
      "source": [
        "soup = BeautifulSoup(website, 'lxml')"
      ],
      "metadata": {
        "id": "SMR5iCnDOau_"
      },
      "execution_count": 4,
      "outputs": []
    },
    {
      "cell_type": "code",
      "source": [
        "# print(soup.prettify())"
      ],
      "metadata": {
        "id": "s9WWXiDmOncY"
      },
      "execution_count": 11,
      "outputs": []
    },
    {
      "cell_type": "code",
      "source": [
        "soup.find_all('h1')[0].text"
      ],
      "metadata": {
        "colab": {
          "base_uri": "https://localhost:8080/",
          "height": 35
        },
        "id": "huTZiv5cOpF8",
        "outputId": "b65f1a4b-5bad-48b2-cab4-a3b6701b8aa9"
      },
      "execution_count": 10,
      "outputs": [
        {
          "output_type": "execute_result",
          "data": {
            "text/plain": [
              "'List of companies in India'"
            ],
            "application/vnd.google.colaboratory.intrinsic+json": {
              "type": "string"
            }
          },
          "metadata": {},
          "execution_count": 10
        }
      ]
    },
    {
      "cell_type": "markdown",
      "source": [
        "TO FIND OUT NAMES OF THE COMPANIES"
      ],
      "metadata": {
        "id": "iqpeV2X-Qrh2"
      }
    },
    {
      "cell_type": "code",
      "source": [
        "for i in soup.find_all('h2'):\n",
        "  print(i.text.strip())"
      ],
      "metadata": {
        "colab": {
          "base_uri": "https://localhost:8080/"
        },
        "id": "ddv79ydVPVp2",
        "outputId": "d291ddfe-17a5-4504-9ffa-d510fa7e07a9"
      },
      "execution_count": 16,
      "outputs": [
        {
          "output_type": "stream",
          "name": "stdout",
          "text": [
            "TCS\n",
            "Accenture\n",
            "Cognizant\n",
            "ICICI Bank\n",
            "HDFC Bank\n",
            "Wipro\n",
            "Infosys\n",
            "Capgemini\n",
            "Tech Mahindra\n",
            "Genpact\n",
            "HCL Technologies\n",
            "Axis Bank\n",
            "Amazon\n",
            "IBM\n",
            "Concentrix Corpo...\n",
            "Larsen & Toubro ...\n",
            "Reliance jio\n",
            "Vodafone Idea\n",
            "HDB Financial Se...\n",
            "Teleperformance\n",
            "Kotak Mahindra B...\n",
            "Reliance Industr...\n",
            "Bharti Airtel\n",
            "Deloitte\n",
            "Tata Motors\n",
            "Reliance Retail\n",
            "WNS\n",
            "Mahindra & Mahin...\n",
            "IndusInd Bank\n",
            "Flipkart\n"
          ]
        }
      ]
    },
    {
      "cell_type": "markdown",
      "source": [
        "TO FIND OUT THE RATINGS"
      ],
      "metadata": {
        "id": "uYmX9KHSRlUa"
      }
    },
    {
      "cell_type": "code",
      "source": [
        "for i in soup.find_all('p', class_='rating'):\n",
        "  print(i.text.strip())"
      ],
      "metadata": {
        "colab": {
          "base_uri": "https://localhost:8080/"
        },
        "id": "x6mYwXQZQVS6",
        "outputId": "967325a3-8280-478a-f37f-54ebeb36bf87"
      },
      "execution_count": 18,
      "outputs": [
        {
          "output_type": "stream",
          "name": "stdout",
          "text": [
            "3.9\n",
            "4.2\n",
            "3.9\n",
            "4.0\n",
            "4.0\n",
            "3.9\n",
            "3.9\n",
            "3.9\n",
            "3.8\n",
            "4.0\n",
            "3.9\n",
            "3.9\n",
            "4.2\n",
            "4.2\n",
            "4.1\n",
            "4.1\n",
            "4.0\n",
            "4.2\n",
            "4.0\n",
            "3.6\n",
            "3.9\n",
            "4.1\n",
            "4.1\n",
            "4.1\n",
            "4.0\n",
            "4.1\n",
            "3.7\n",
            "3.9\n",
            "3.8\n",
            "4.2\n"
          ]
        }
      ]
    },
    {
      "cell_type": "markdown",
      "source": [
        "TO FIND OUT THE NUMBER OF REVIEWS"
      ],
      "metadata": {
        "id": "3rHjsgYTSUeh"
      }
    },
    {
      "cell_type": "code",
      "source": [
        "for i in soup.find_all('a', class_='review-count'):\n",
        "  print(i.text.strip())"
      ],
      "metadata": {
        "colab": {
          "base_uri": "https://localhost:8080/"
        },
        "id": "POvouQjSRU5V",
        "outputId": "1793bdb0-9583-4206-885d-88917dd32c26"
      },
      "execution_count": 19,
      "outputs": [
        {
          "output_type": "stream",
          "name": "stdout",
          "text": [
            "(46.8k Reviews)\n",
            "(31.1k Reviews)\n",
            "(28.3k Reviews)\n",
            "(33.7k Reviews)\n",
            "(38.1k Reviews)\n",
            "(27.2k Reviews)\n",
            "(27k Reviews)\n",
            "(23k Reviews)\n",
            "(20.9k Reviews)\n",
            "(20.2k Reviews)\n",
            "(17.5k Reviews)\n",
            "(18.4k Reviews)\n",
            "(16.8k Reviews)\n",
            "(20.8k Reviews)\n",
            "(14.9k Reviews)\n",
            "(24k Reviews)\n",
            "(14.3k Reviews)\n",
            "(13.7k Reviews)\n",
            "(12.9k Reviews)\n",
            "(13.9k Reviews)\n",
            "(13.2k Reviews)\n",
            "(41.4k Reviews)\n",
            "(12.5k Reviews)\n",
            "(9.9k Reviews)\n",
            "(12k Reviews)\n",
            "(14.5k Reviews)\n",
            "(6.7k Reviews)\n",
            "(38.1k Reviews)\n",
            "(6.6k Reviews)\n",
            "(10.8k Reviews)\n"
          ]
        }
      ]
    },
    {
      "cell_type": "markdown",
      "source": [
        "CONSIDERING THE WHOLE CONTAINER"
      ],
      "metadata": {
        "id": "I8CwSU0kUlWq"
      }
    },
    {
      "cell_type": "code",
      "source": [
        "company = soup.find_all('div', class_='company-content-wrapper')"
      ],
      "metadata": {
        "id": "1w-gJvg6StqZ"
      },
      "execution_count": 21,
      "outputs": []
    },
    {
      "cell_type": "code",
      "source": [
        "len(company)"
      ],
      "metadata": {
        "colab": {
          "base_uri": "https://localhost:8080/"
        },
        "id": "kwSSGFJbU1YJ",
        "outputId": "cb40bee0-f1ae-431b-e8d2-f6b232a6d040"
      },
      "execution_count": 22,
      "outputs": [
        {
          "output_type": "execute_result",
          "data": {
            "text/plain": [
              "30"
            ]
          },
          "metadata": {},
          "execution_count": 22
        }
      ]
    },
    {
      "cell_type": "code",
      "source": [
        "name = []\n",
        "rating = []\n",
        "review = []\n",
        "company_type = []\n",
        "headquarter = []\n",
        "how_old = []\n",
        "no_of_employee = []\n",
        "for i in company:\n",
        "\n",
        "  name.append(i.find('h2').text.strip())\n",
        "\n",
        "  rating.append(i.find_all('p', class_='rating')[0].text.strip())\n",
        "\n",
        "  review.append(i.find_all('a', class_='review-count')[0].text.strip())\n",
        "\n",
        "  company_type.append(i.find_all('p', class_='infoEntity')[0].text.strip())\n",
        "\n",
        "  headquarter.append(i.find_all('p', class_='infoEntity')[1].text.strip())\n",
        "\n",
        "  how_old.append(i.find_all('p', class_='infoEntity')[2].text.strip())\n",
        "\n",
        "  no_of_employee.append(i.find_all('p', class_='infoEntity')[3].text.strip())\n",
        "\n"
      ],
      "metadata": {
        "id": "E8FJVudFU6ha"
      },
      "execution_count": 36,
      "outputs": []
    },
    {
      "cell_type": "code",
      "source": [
        "# Creating a dictionary\n",
        "d = { 'name':name, \n",
        "     'rating':rating,\n",
        "     'rewiew':review,\n",
        "     'company_type':company_type,\n",
        "     'headquarter':headquarter,\n",
        "     'how_old': how_old,\n",
        "     'no_of_employee':no_of_employee \n",
        "     }"
      ],
      "metadata": {
        "id": "mLWhHPkiVfaM"
      },
      "execution_count": 39,
      "outputs": []
    },
    {
      "cell_type": "code",
      "source": [
        "# Creating a dataframe\n",
        "df = pd.DataFrame(d)"
      ],
      "metadata": {
        "id": "de9cAmjiaIk6"
      },
      "execution_count": 40,
      "outputs": []
    },
    {
      "cell_type": "code",
      "source": [
        "df.head()"
      ],
      "metadata": {
        "colab": {
          "base_uri": "https://localhost:8080/",
          "height": 206
        },
        "id": "dImAdZZaaQfi",
        "outputId": "caa9970f-e9ff-4d2b-8b59-c1c9eddfb097"
      },
      "execution_count": 41,
      "outputs": [
        {
          "output_type": "execute_result",
          "data": {
            "text/plain": [
              "         name rating           rewiew company_type  \\\n",
              "0         TCS    3.9  (46.8k Reviews)       Public   \n",
              "1   Accenture    4.2  (31.1k Reviews)       Public   \n",
              "2   Cognizant    3.9  (28.3k Reviews)      Private   \n",
              "3  ICICI Bank    4.0  (33.7k Reviews)       Public   \n",
              "4   HDFC Bank    4.0  (38.1k Reviews)       Public   \n",
              "\n",
              "                      headquarter       how_old             no_of_employee  \n",
              "0   Mumbai,Maharashtra + 267 more  54 years old  1 Lakh+ Employees (India)  \n",
              "1               Dublin + 140 more  33 years old  1 Lakh+ Employees (India)  \n",
              "2  Teaneck. New Jersey. + 93 more  28 years old  1 Lakh+ Employees (India)  \n",
              "3  Mumbai,Maharashtra + 1021 more  28 years old  1 Lakh+ Employees (India)  \n",
              "4  Mumbai,Maharashtra + 1172 more  28 years old  1 Lakh+ Employees (India)  "
            ],
            "text/html": [
              "\n",
              "  <div id=\"df-743f21d5-7490-4f6c-97bf-199b3d711158\">\n",
              "    <div class=\"colab-df-container\">\n",
              "      <div>\n",
              "<style scoped>\n",
              "    .dataframe tbody tr th:only-of-type {\n",
              "        vertical-align: middle;\n",
              "    }\n",
              "\n",
              "    .dataframe tbody tr th {\n",
              "        vertical-align: top;\n",
              "    }\n",
              "\n",
              "    .dataframe thead th {\n",
              "        text-align: right;\n",
              "    }\n",
              "</style>\n",
              "<table border=\"1\" class=\"dataframe\">\n",
              "  <thead>\n",
              "    <tr style=\"text-align: right;\">\n",
              "      <th></th>\n",
              "      <th>name</th>\n",
              "      <th>rating</th>\n",
              "      <th>rewiew</th>\n",
              "      <th>company_type</th>\n",
              "      <th>headquarter</th>\n",
              "      <th>how_old</th>\n",
              "      <th>no_of_employee</th>\n",
              "    </tr>\n",
              "  </thead>\n",
              "  <tbody>\n",
              "    <tr>\n",
              "      <th>0</th>\n",
              "      <td>TCS</td>\n",
              "      <td>3.9</td>\n",
              "      <td>(46.8k Reviews)</td>\n",
              "      <td>Public</td>\n",
              "      <td>Mumbai,Maharashtra + 267 more</td>\n",
              "      <td>54 years old</td>\n",
              "      <td>1 Lakh+ Employees (India)</td>\n",
              "    </tr>\n",
              "    <tr>\n",
              "      <th>1</th>\n",
              "      <td>Accenture</td>\n",
              "      <td>4.2</td>\n",
              "      <td>(31.1k Reviews)</td>\n",
              "      <td>Public</td>\n",
              "      <td>Dublin + 140 more</td>\n",
              "      <td>33 years old</td>\n",
              "      <td>1 Lakh+ Employees (India)</td>\n",
              "    </tr>\n",
              "    <tr>\n",
              "      <th>2</th>\n",
              "      <td>Cognizant</td>\n",
              "      <td>3.9</td>\n",
              "      <td>(28.3k Reviews)</td>\n",
              "      <td>Private</td>\n",
              "      <td>Teaneck. New Jersey. + 93 more</td>\n",
              "      <td>28 years old</td>\n",
              "      <td>1 Lakh+ Employees (India)</td>\n",
              "    </tr>\n",
              "    <tr>\n",
              "      <th>3</th>\n",
              "      <td>ICICI Bank</td>\n",
              "      <td>4.0</td>\n",
              "      <td>(33.7k Reviews)</td>\n",
              "      <td>Public</td>\n",
              "      <td>Mumbai,Maharashtra + 1021 more</td>\n",
              "      <td>28 years old</td>\n",
              "      <td>1 Lakh+ Employees (India)</td>\n",
              "    </tr>\n",
              "    <tr>\n",
              "      <th>4</th>\n",
              "      <td>HDFC Bank</td>\n",
              "      <td>4.0</td>\n",
              "      <td>(38.1k Reviews)</td>\n",
              "      <td>Public</td>\n",
              "      <td>Mumbai,Maharashtra + 1172 more</td>\n",
              "      <td>28 years old</td>\n",
              "      <td>1 Lakh+ Employees (India)</td>\n",
              "    </tr>\n",
              "  </tbody>\n",
              "</table>\n",
              "</div>\n",
              "      <button class=\"colab-df-convert\" onclick=\"convertToInteractive('df-743f21d5-7490-4f6c-97bf-199b3d711158')\"\n",
              "              title=\"Convert this dataframe to an interactive table.\"\n",
              "              style=\"display:none;\">\n",
              "        \n",
              "  <svg xmlns=\"http://www.w3.org/2000/svg\" height=\"24px\"viewBox=\"0 0 24 24\"\n",
              "       width=\"24px\">\n",
              "    <path d=\"M0 0h24v24H0V0z\" fill=\"none\"/>\n",
              "    <path d=\"M18.56 5.44l.94 2.06.94-2.06 2.06-.94-2.06-.94-.94-2.06-.94 2.06-2.06.94zm-11 1L8.5 8.5l.94-2.06 2.06-.94-2.06-.94L8.5 2.5l-.94 2.06-2.06.94zm10 10l.94 2.06.94-2.06 2.06-.94-2.06-.94-.94-2.06-.94 2.06-2.06.94z\"/><path d=\"M17.41 7.96l-1.37-1.37c-.4-.4-.92-.59-1.43-.59-.52 0-1.04.2-1.43.59L10.3 9.45l-7.72 7.72c-.78.78-.78 2.05 0 2.83L4 21.41c.39.39.9.59 1.41.59.51 0 1.02-.2 1.41-.59l7.78-7.78 2.81-2.81c.8-.78.8-2.07 0-2.86zM5.41 20L4 18.59l7.72-7.72 1.47 1.35L5.41 20z\"/>\n",
              "  </svg>\n",
              "      </button>\n",
              "      \n",
              "  <style>\n",
              "    .colab-df-container {\n",
              "      display:flex;\n",
              "      flex-wrap:wrap;\n",
              "      gap: 12px;\n",
              "    }\n",
              "\n",
              "    .colab-df-convert {\n",
              "      background-color: #E8F0FE;\n",
              "      border: none;\n",
              "      border-radius: 50%;\n",
              "      cursor: pointer;\n",
              "      display: none;\n",
              "      fill: #1967D2;\n",
              "      height: 32px;\n",
              "      padding: 0 0 0 0;\n",
              "      width: 32px;\n",
              "    }\n",
              "\n",
              "    .colab-df-convert:hover {\n",
              "      background-color: #E2EBFA;\n",
              "      box-shadow: 0px 1px 2px rgba(60, 64, 67, 0.3), 0px 1px 3px 1px rgba(60, 64, 67, 0.15);\n",
              "      fill: #174EA6;\n",
              "    }\n",
              "\n",
              "    [theme=dark] .colab-df-convert {\n",
              "      background-color: #3B4455;\n",
              "      fill: #D2E3FC;\n",
              "    }\n",
              "\n",
              "    [theme=dark] .colab-df-convert:hover {\n",
              "      background-color: #434B5C;\n",
              "      box-shadow: 0px 1px 3px 1px rgba(0, 0, 0, 0.15);\n",
              "      filter: drop-shadow(0px 1px 2px rgba(0, 0, 0, 0.3));\n",
              "      fill: #FFFFFF;\n",
              "    }\n",
              "  </style>\n",
              "\n",
              "      <script>\n",
              "        const buttonEl =\n",
              "          document.querySelector('#df-743f21d5-7490-4f6c-97bf-199b3d711158 button.colab-df-convert');\n",
              "        buttonEl.style.display =\n",
              "          google.colab.kernel.accessAllowed ? 'block' : 'none';\n",
              "\n",
              "        async function convertToInteractive(key) {\n",
              "          const element = document.querySelector('#df-743f21d5-7490-4f6c-97bf-199b3d711158');\n",
              "          const dataTable =\n",
              "            await google.colab.kernel.invokeFunction('convertToInteractive',\n",
              "                                                     [key], {});\n",
              "          if (!dataTable) return;\n",
              "\n",
              "          const docLinkHtml = 'Like what you see? Visit the ' +\n",
              "            '<a target=\"_blank\" href=https://colab.research.google.com/notebooks/data_table.ipynb>data table notebook</a>'\n",
              "            + ' to learn more about interactive tables.';\n",
              "          element.innerHTML = '';\n",
              "          dataTable['output_type'] = 'display_data';\n",
              "          await google.colab.output.renderOutput(dataTable, element);\n",
              "          const docLink = document.createElement('div');\n",
              "          docLink.innerHTML = docLinkHtml;\n",
              "          element.appendChild(docLink);\n",
              "        }\n",
              "      </script>\n",
              "    </div>\n",
              "  </div>\n",
              "  "
            ]
          },
          "metadata": {},
          "execution_count": 41
        }
      ]
    },
    {
      "cell_type": "markdown",
      "source": [
        "For all the pages"
      ],
      "metadata": {
        "id": "y1YroBMma4h6"
      }
    },
    {
      "cell_type": "code",
      "source": [
        "import pandas as pd\n",
        "import requests\n",
        "from bs4 import BeautifulSoup\n",
        "import numpy as np\n",
        "final = pd.DataFrame()\n",
        "\n",
        "for j in range(1,500):\n",
        "  url = 'https://www.ambitionbox.com/list-of-companies?page={}'.format(j)\n",
        "  website = requests.get(url).text\n",
        "\n",
        "  soup = BeautifulSoup(website, 'lxml')\n",
        "\n",
        "  company = soup.find_all('div', class_='company-content-wrapper')\n",
        "\n",
        "  name = []\n",
        "  rating = []\n",
        "  review = []\n",
        "  company_type = []\n",
        "  headquarter = []\n",
        "  how_old = []\n",
        "  no_of_employee = []\n",
        "  for i in company:\n",
        "    try:\n",
        "      name.append(i.find('h2').text.strip())\n",
        "    except:\n",
        "      name.append(np.nan)\n",
        "\n",
        "    try:\n",
        "      rating.append(i.find_all('p', class_='rating')[0].text.strip())\n",
        "    except:\n",
        "      rating.append(np.nan)\n",
        "\n",
        "    try:\n",
        "      review.append(i.find_all('a', class_='review-count')[0].text.strip())\n",
        "    except:\n",
        "      review.append(np.nan)\n",
        "    \n",
        "    try:\n",
        "      company_type.append(i.find_all('p', class_='infoEntity')[0].text.strip())\n",
        "    except:\n",
        "      company_type.append(np.nan)\n",
        "\n",
        "    try:\n",
        "      headquarter.append(i.find_all('p', class_='infoEntity')[1].text.strip())\n",
        "    except:\n",
        "      headquarter.append(np.nan)\n",
        "\n",
        "    try:\n",
        "      how_old.append(i.find_all('p', class_='infoEntity')[2].text.strip())\n",
        "    except:\n",
        "      how_old.append(np.nan)\n",
        "    \n",
        "    try:\n",
        "      no_of_employee.append(i.find_all('p', class_='infoEntity')[3].text.strip())\n",
        "    except:\n",
        "      no_of_employee.append(np.nan)\n",
        "\n",
        "  # Creating a dictionary\n",
        "  d = { 'name':name, \n",
        "      'rating':rating,\n",
        "      'rewiew':review,\n",
        "      'company_type':company_type,\n",
        "      'headquarter':headquarter,\n",
        "      'how_old': how_old,\n",
        "      'no_of_employee':no_of_employee \n",
        "      }\n",
        "    \n",
        "  df = pd.DataFrame(d)\n",
        "\n",
        "  final = final.append(df, ignore_index=True)\n",
        "\n",
        "\n",
        "\n"
      ],
      "metadata": {
        "id": "rSe9-BtjaSGI"
      },
      "execution_count": 4,
      "outputs": []
    },
    {
      "cell_type": "code",
      "source": [
        "final.shape"
      ],
      "metadata": {
        "colab": {
          "base_uri": "https://localhost:8080/"
        },
        "id": "Z5E6p7LDeG1I",
        "outputId": "cd249619-b526-453a-ab21-e19ad1acb5fb"
      },
      "execution_count": 5,
      "outputs": [
        {
          "output_type": "execute_result",
          "data": {
            "text/plain": [
              "(9989, 7)"
            ]
          },
          "metadata": {},
          "execution_count": 5
        }
      ]
    },
    {
      "cell_type": "code",
      "source": [
        "final.head(10)"
      ],
      "metadata": {
        "colab": {
          "base_uri": "https://localhost:8080/",
          "height": 363
        },
        "id": "v-y_IqB3goTW",
        "outputId": "dfda94e0-45e5-46be-e1c5-6065e8e02245"
      },
      "execution_count": 6,
      "outputs": [
        {
          "output_type": "execute_result",
          "data": {
            "text/plain": [
              "            name rating           rewiew company_type  \\\n",
              "0            TCS    3.9  (46.8k Reviews)       Public   \n",
              "1      Accenture    4.2  (31.1k Reviews)       Public   \n",
              "2      Cognizant    3.9  (28.3k Reviews)      Private   \n",
              "3     ICICI Bank    4.0  (33.7k Reviews)       Public   \n",
              "4      HDFC Bank    4.0  (38.1k Reviews)       Public   \n",
              "5          Wipro    3.9  (27.2k Reviews)       Public   \n",
              "6        Infosys    3.9    (27k Reviews)       Public   \n",
              "7      Capgemini    3.9    (23k Reviews)       Public   \n",
              "8  Tech Mahindra    3.8  (20.9k Reviews)       Public   \n",
              "9        Genpact    4.0  (20.2k Reviews)       Public   \n",
              "\n",
              "                                headquarter       how_old  \\\n",
              "0             Mumbai,Maharashtra + 267 more  54 years old   \n",
              "1                         Dublin + 140 more  33 years old   \n",
              "2            Teaneck. New Jersey. + 93 more  28 years old   \n",
              "3            Mumbai,Maharashtra + 1021 more  28 years old   \n",
              "4            Mumbai,Maharashtra + 1172 more  28 years old   \n",
              "5  Bangalore/Bengaluru,Karnataka + 226 more  77 years old   \n",
              "6  Bengaluru/Bangalore,Karnataka + 121 more  41 years old   \n",
              "7                           Paris + 75 more  55 years old   \n",
              "8               Pune,Maharashtra + 209 more  36 years old   \n",
              "9               New York,New York + 66 more  25 years old   \n",
              "\n",
              "                 no_of_employee  \n",
              "0     1 Lakh+ Employees (India)  \n",
              "1     1 Lakh+ Employees (India)  \n",
              "2     1 Lakh+ Employees (India)  \n",
              "3     1 Lakh+ Employees (India)  \n",
              "4     1 Lakh+ Employees (India)  \n",
              "5     1 Lakh+ Employees (India)  \n",
              "6     1 Lakh+ Employees (India)  \n",
              "7     1 Lakh+ Employees (India)  \n",
              "8  50k-1 Lakh Employees (India)  \n",
              "9  50k-1 Lakh Employees (India)  "
            ],
            "text/html": [
              "\n",
              "  <div id=\"df-2c8e2963-f9b1-42f7-932b-428da1d06267\">\n",
              "    <div class=\"colab-df-container\">\n",
              "      <div>\n",
              "<style scoped>\n",
              "    .dataframe tbody tr th:only-of-type {\n",
              "        vertical-align: middle;\n",
              "    }\n",
              "\n",
              "    .dataframe tbody tr th {\n",
              "        vertical-align: top;\n",
              "    }\n",
              "\n",
              "    .dataframe thead th {\n",
              "        text-align: right;\n",
              "    }\n",
              "</style>\n",
              "<table border=\"1\" class=\"dataframe\">\n",
              "  <thead>\n",
              "    <tr style=\"text-align: right;\">\n",
              "      <th></th>\n",
              "      <th>name</th>\n",
              "      <th>rating</th>\n",
              "      <th>rewiew</th>\n",
              "      <th>company_type</th>\n",
              "      <th>headquarter</th>\n",
              "      <th>how_old</th>\n",
              "      <th>no_of_employee</th>\n",
              "    </tr>\n",
              "  </thead>\n",
              "  <tbody>\n",
              "    <tr>\n",
              "      <th>0</th>\n",
              "      <td>TCS</td>\n",
              "      <td>3.9</td>\n",
              "      <td>(46.8k Reviews)</td>\n",
              "      <td>Public</td>\n",
              "      <td>Mumbai,Maharashtra + 267 more</td>\n",
              "      <td>54 years old</td>\n",
              "      <td>1 Lakh+ Employees (India)</td>\n",
              "    </tr>\n",
              "    <tr>\n",
              "      <th>1</th>\n",
              "      <td>Accenture</td>\n",
              "      <td>4.2</td>\n",
              "      <td>(31.1k Reviews)</td>\n",
              "      <td>Public</td>\n",
              "      <td>Dublin + 140 more</td>\n",
              "      <td>33 years old</td>\n",
              "      <td>1 Lakh+ Employees (India)</td>\n",
              "    </tr>\n",
              "    <tr>\n",
              "      <th>2</th>\n",
              "      <td>Cognizant</td>\n",
              "      <td>3.9</td>\n",
              "      <td>(28.3k Reviews)</td>\n",
              "      <td>Private</td>\n",
              "      <td>Teaneck. New Jersey. + 93 more</td>\n",
              "      <td>28 years old</td>\n",
              "      <td>1 Lakh+ Employees (India)</td>\n",
              "    </tr>\n",
              "    <tr>\n",
              "      <th>3</th>\n",
              "      <td>ICICI Bank</td>\n",
              "      <td>4.0</td>\n",
              "      <td>(33.7k Reviews)</td>\n",
              "      <td>Public</td>\n",
              "      <td>Mumbai,Maharashtra + 1021 more</td>\n",
              "      <td>28 years old</td>\n",
              "      <td>1 Lakh+ Employees (India)</td>\n",
              "    </tr>\n",
              "    <tr>\n",
              "      <th>4</th>\n",
              "      <td>HDFC Bank</td>\n",
              "      <td>4.0</td>\n",
              "      <td>(38.1k Reviews)</td>\n",
              "      <td>Public</td>\n",
              "      <td>Mumbai,Maharashtra + 1172 more</td>\n",
              "      <td>28 years old</td>\n",
              "      <td>1 Lakh+ Employees (India)</td>\n",
              "    </tr>\n",
              "    <tr>\n",
              "      <th>5</th>\n",
              "      <td>Wipro</td>\n",
              "      <td>3.9</td>\n",
              "      <td>(27.2k Reviews)</td>\n",
              "      <td>Public</td>\n",
              "      <td>Bangalore/Bengaluru,Karnataka + 226 more</td>\n",
              "      <td>77 years old</td>\n",
              "      <td>1 Lakh+ Employees (India)</td>\n",
              "    </tr>\n",
              "    <tr>\n",
              "      <th>6</th>\n",
              "      <td>Infosys</td>\n",
              "      <td>3.9</td>\n",
              "      <td>(27k Reviews)</td>\n",
              "      <td>Public</td>\n",
              "      <td>Bengaluru/Bangalore,Karnataka + 121 more</td>\n",
              "      <td>41 years old</td>\n",
              "      <td>1 Lakh+ Employees (India)</td>\n",
              "    </tr>\n",
              "    <tr>\n",
              "      <th>7</th>\n",
              "      <td>Capgemini</td>\n",
              "      <td>3.9</td>\n",
              "      <td>(23k Reviews)</td>\n",
              "      <td>Public</td>\n",
              "      <td>Paris + 75 more</td>\n",
              "      <td>55 years old</td>\n",
              "      <td>1 Lakh+ Employees (India)</td>\n",
              "    </tr>\n",
              "    <tr>\n",
              "      <th>8</th>\n",
              "      <td>Tech Mahindra</td>\n",
              "      <td>3.8</td>\n",
              "      <td>(20.9k Reviews)</td>\n",
              "      <td>Public</td>\n",
              "      <td>Pune,Maharashtra + 209 more</td>\n",
              "      <td>36 years old</td>\n",
              "      <td>50k-1 Lakh Employees (India)</td>\n",
              "    </tr>\n",
              "    <tr>\n",
              "      <th>9</th>\n",
              "      <td>Genpact</td>\n",
              "      <td>4.0</td>\n",
              "      <td>(20.2k Reviews)</td>\n",
              "      <td>Public</td>\n",
              "      <td>New York,New York + 66 more</td>\n",
              "      <td>25 years old</td>\n",
              "      <td>50k-1 Lakh Employees (India)</td>\n",
              "    </tr>\n",
              "  </tbody>\n",
              "</table>\n",
              "</div>\n",
              "      <button class=\"colab-df-convert\" onclick=\"convertToInteractive('df-2c8e2963-f9b1-42f7-932b-428da1d06267')\"\n",
              "              title=\"Convert this dataframe to an interactive table.\"\n",
              "              style=\"display:none;\">\n",
              "        \n",
              "  <svg xmlns=\"http://www.w3.org/2000/svg\" height=\"24px\"viewBox=\"0 0 24 24\"\n",
              "       width=\"24px\">\n",
              "    <path d=\"M0 0h24v24H0V0z\" fill=\"none\"/>\n",
              "    <path d=\"M18.56 5.44l.94 2.06.94-2.06 2.06-.94-2.06-.94-.94-2.06-.94 2.06-2.06.94zm-11 1L8.5 8.5l.94-2.06 2.06-.94-2.06-.94L8.5 2.5l-.94 2.06-2.06.94zm10 10l.94 2.06.94-2.06 2.06-.94-2.06-.94-.94-2.06-.94 2.06-2.06.94z\"/><path d=\"M17.41 7.96l-1.37-1.37c-.4-.4-.92-.59-1.43-.59-.52 0-1.04.2-1.43.59L10.3 9.45l-7.72 7.72c-.78.78-.78 2.05 0 2.83L4 21.41c.39.39.9.59 1.41.59.51 0 1.02-.2 1.41-.59l7.78-7.78 2.81-2.81c.8-.78.8-2.07 0-2.86zM5.41 20L4 18.59l7.72-7.72 1.47 1.35L5.41 20z\"/>\n",
              "  </svg>\n",
              "      </button>\n",
              "      \n",
              "  <style>\n",
              "    .colab-df-container {\n",
              "      display:flex;\n",
              "      flex-wrap:wrap;\n",
              "      gap: 12px;\n",
              "    }\n",
              "\n",
              "    .colab-df-convert {\n",
              "      background-color: #E8F0FE;\n",
              "      border: none;\n",
              "      border-radius: 50%;\n",
              "      cursor: pointer;\n",
              "      display: none;\n",
              "      fill: #1967D2;\n",
              "      height: 32px;\n",
              "      padding: 0 0 0 0;\n",
              "      width: 32px;\n",
              "    }\n",
              "\n",
              "    .colab-df-convert:hover {\n",
              "      background-color: #E2EBFA;\n",
              "      box-shadow: 0px 1px 2px rgba(60, 64, 67, 0.3), 0px 1px 3px 1px rgba(60, 64, 67, 0.15);\n",
              "      fill: #174EA6;\n",
              "    }\n",
              "\n",
              "    [theme=dark] .colab-df-convert {\n",
              "      background-color: #3B4455;\n",
              "      fill: #D2E3FC;\n",
              "    }\n",
              "\n",
              "    [theme=dark] .colab-df-convert:hover {\n",
              "      background-color: #434B5C;\n",
              "      box-shadow: 0px 1px 3px 1px rgba(0, 0, 0, 0.15);\n",
              "      filter: drop-shadow(0px 1px 2px rgba(0, 0, 0, 0.3));\n",
              "      fill: #FFFFFF;\n",
              "    }\n",
              "  </style>\n",
              "\n",
              "      <script>\n",
              "        const buttonEl =\n",
              "          document.querySelector('#df-2c8e2963-f9b1-42f7-932b-428da1d06267 button.colab-df-convert');\n",
              "        buttonEl.style.display =\n",
              "          google.colab.kernel.accessAllowed ? 'block' : 'none';\n",
              "\n",
              "        async function convertToInteractive(key) {\n",
              "          const element = document.querySelector('#df-2c8e2963-f9b1-42f7-932b-428da1d06267');\n",
              "          const dataTable =\n",
              "            await google.colab.kernel.invokeFunction('convertToInteractive',\n",
              "                                                     [key], {});\n",
              "          if (!dataTable) return;\n",
              "\n",
              "          const docLinkHtml = 'Like what you see? Visit the ' +\n",
              "            '<a target=\"_blank\" href=https://colab.research.google.com/notebooks/data_table.ipynb>data table notebook</a>'\n",
              "            + ' to learn more about interactive tables.';\n",
              "          element.innerHTML = '';\n",
              "          dataTable['output_type'] = 'display_data';\n",
              "          await google.colab.output.renderOutput(dataTable, element);\n",
              "          const docLink = document.createElement('div');\n",
              "          docLink.innerHTML = docLinkHtml;\n",
              "          element.appendChild(docLink);\n",
              "        }\n",
              "      </script>\n",
              "    </div>\n",
              "  </div>\n",
              "  "
            ]
          },
          "metadata": {},
          "execution_count": 6
        }
      ]
    },
    {
      "cell_type": "code",
      "source": [],
      "metadata": {
        "id": "EGX-8AD-gqst"
      },
      "execution_count": null,
      "outputs": []
    }
  ]
}