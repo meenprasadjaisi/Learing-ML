{
  "nbformat": 4,
  "nbformat_minor": 0,
  "metadata": {
    "colab": {
      "provenance": []
    },
    "kernelspec": {
      "name": "python3",
      "display_name": "Python 3"
    },
    "language_info": {
      "name": "python"
    }
  },
  "cells": [
    {
      "cell_type": "markdown",
      "source": [
        "**Numpy** -- Numerical Python\n",
        "<br>\n",
        "Advantages of numpy <br>\n",
        "1. Allows several Mathematical Operations<br>\n",
        "2. Faster operations"
      ],
      "metadata": {
        "id": "xEZWTrMaaWqo"
      }
    },
    {
      "cell_type": "code",
      "execution_count": null,
      "metadata": {
        "id": "5Kuu7bLtaCBN"
      },
      "outputs": [],
      "source": [
        "import numpy as np"
      ]
    },
    {
      "cell_type": "markdown",
      "source": [
        "List Vs Numpy - Time Taken"
      ],
      "metadata": {
        "id": "P4vFHwBwbldR"
      }
    },
    {
      "cell_type": "code",
      "source": [
        "from time import process_time"
      ],
      "metadata": {
        "id": "bUmfckH9a7e0"
      },
      "execution_count": null,
      "outputs": []
    },
    {
      "cell_type": "markdown",
      "source": [
        "Time Taken by the list"
      ],
      "metadata": {
        "id": "cPdcSC05b0oV"
      }
    },
    {
      "cell_type": "code",
      "source": [
        "python_list = [i for i in range(10000)]\n",
        "\n",
        "start_time = process_time()\n",
        "\n",
        "python_list = [i+5 for i in python_list]\n",
        "\n",
        "end_time = process_time()\n",
        "\n",
        "print('Process Time Required : '+ str(end_time-start_time))"
      ],
      "metadata": {
        "colab": {
          "base_uri": "https://localhost:8080/"
        },
        "id": "Ot87MqJAbxaE",
        "outputId": "295a03ef-6d5f-457d-8441-b5ec60e01a78"
      },
      "execution_count": 10,
      "outputs": [
        {
          "output_type": "stream",
          "name": "stdout",
          "text": [
            "Process Time Required : 0.0006727299999997882\n"
          ]
        }
      ]
    },
    {
      "cell_type": "markdown",
      "source": [
        "Time Taken by Numpy array"
      ],
      "metadata": {
        "id": "r2FIf0xqdJxq"
      }
    },
    {
      "cell_type": "code",
      "source": [
        "numpy_array = np.array([i for i in range(10000)])\n",
        "\n",
        "start_time = process_time()\n",
        "\n",
        "numpy_array += 5\n",
        "\n",
        "end_time = process_time()\n",
        "\n",
        "print('Processing Time Required : ' + str(end_time - start_time))"
      ],
      "metadata": {
        "id": "Ro0dIqzKcunx",
        "colab": {
          "base_uri": "https://localhost:8080/"
        },
        "outputId": "30f79fa9-0b58-419e-8dbb-86ba414a3b7c"
      },
      "execution_count": 11,
      "outputs": [
        {
          "output_type": "stream",
          "name": "stdout",
          "text": [
            "Processing Time Required : 0.0011343900000007068\n"
          ]
        }
      ]
    },
    {
      "cell_type": "markdown",
      "source": [
        "Numpy Array"
      ],
      "metadata": {
        "id": "KUz8Wbclvoh0"
      }
    },
    {
      "cell_type": "code",
      "source": [
        "# list\n",
        "list1  = [1,2,3,4,5]\n",
        "print(list1)\n",
        "type(list1)"
      ],
      "metadata": {
        "colab": {
          "base_uri": "https://localhost:8080/"
        },
        "id": "yZk-oPTaujOi",
        "outputId": "43fa0416-8dbd-479a-968e-7b744955cb8e"
      },
      "execution_count": 12,
      "outputs": [
        {
          "output_type": "stream",
          "name": "stdout",
          "text": [
            "[1, 2, 3, 4, 5]\n"
          ]
        },
        {
          "output_type": "execute_result",
          "data": {
            "text/plain": [
              "list"
            ]
          },
          "metadata": {},
          "execution_count": 12
        }
      ]
    },
    {
      "cell_type": "code",
      "source": [
        "# Create a numpy array\n",
        "np_array = np.array(list1)\n",
        "print(np_array)\n",
        "type(np_array)"
      ],
      "metadata": {
        "colab": {
          "base_uri": "https://localhost:8080/"
        },
        "id": "o5bONm3zv0xp",
        "outputId": "64207b5b-e3e9-4e28-fea4-b048467a22e6"
      },
      "execution_count": 13,
      "outputs": [
        {
          "output_type": "stream",
          "name": "stdout",
          "text": [
            "[1 2 3 4 5]\n"
          ]
        },
        {
          "output_type": "execute_result",
          "data": {
            "text/plain": [
              "numpy.ndarray"
            ]
          },
          "metadata": {},
          "execution_count": 13
        }
      ]
    },
    {
      "cell_type": "code",
      "source": [
        "# Creating 1D Array\n",
        "a = np.array([1,2,3,4,5,6])\n",
        "a.shape"
      ],
      "metadata": {
        "colab": {
          "base_uri": "https://localhost:8080/"
        },
        "id": "R-MwEsVLwCSH",
        "outputId": "5dff918f-cb8d-4d7b-aaad-3a914f66ac19"
      },
      "execution_count": 14,
      "outputs": [
        {
          "output_type": "execute_result",
          "data": {
            "text/plain": [
              "(6,)"
            ]
          },
          "metadata": {},
          "execution_count": 14
        }
      ]
    },
    {
      "cell_type": "code",
      "source": [
        "# Creating 2D array\n",
        "b = np.array([[1,2,3,4],[5,6,7,8]])\n",
        "b.shape"
      ],
      "metadata": {
        "colab": {
          "base_uri": "https://localhost:8080/"
        },
        "id": "FTBoDkMtwRX9",
        "outputId": "feacf13b-2580-4115-e8ed-82c40ff0bbe8"
      },
      "execution_count": 15,
      "outputs": [
        {
          "output_type": "execute_result",
          "data": {
            "text/plain": [
              "(2, 4)"
            ]
          },
          "metadata": {},
          "execution_count": 15
        }
      ]
    },
    {
      "cell_type": "code",
      "source": [
        "# specifying datatype\n",
        "c = np.array([[1,2,3,4],[5,6,7,8]], dtype = float)\n",
        "print(c)"
      ],
      "metadata": {
        "colab": {
          "base_uri": "https://localhost:8080/"
        },
        "id": "JzhB642awg_p",
        "outputId": "da0ce6b0-d7ca-4d87-ff05-414e807ac5b7"
      },
      "execution_count": 16,
      "outputs": [
        {
          "output_type": "stream",
          "name": "stdout",
          "text": [
            "[[1. 2. 3. 4.]\n",
            " [5. 6. 7. 8.]]\n"
          ]
        }
      ]
    },
    {
      "cell_type": "markdown",
      "source": [
        "Initial Placeholders in numpy arrays"
      ],
      "metadata": {
        "id": "8WT_pPn5xFE9"
      }
    },
    {
      "cell_type": "code",
      "source": [
        "# Create numpy array of zeros\n",
        "x = np.zeros((4,5))\n",
        "x"
      ],
      "metadata": {
        "colab": {
          "base_uri": "https://localhost:8080/"
        },
        "id": "NDS5M46zw4gq",
        "outputId": "9263de64-2892-42f0-ba1a-11256a72f180"
      },
      "execution_count": 17,
      "outputs": [
        {
          "output_type": "execute_result",
          "data": {
            "text/plain": [
              "array([[0., 0., 0., 0., 0.],\n",
              "       [0., 0., 0., 0., 0.],\n",
              "       [0., 0., 0., 0., 0.],\n",
              "       [0., 0., 0., 0., 0.]])"
            ]
          },
          "metadata": {},
          "execution_count": 17
        }
      ]
    },
    {
      "cell_type": "code",
      "source": [
        "# creating numpy array of ones\n",
        "y = np.ones((3,5))\n",
        "y"
      ],
      "metadata": {
        "colab": {
          "base_uri": "https://localhost:8080/"
        },
        "id": "dLVyMMSxxTkp",
        "outputId": "6566662a-1ae4-49bf-daa5-31ece5cd076a"
      },
      "execution_count": 19,
      "outputs": [
        {
          "output_type": "execute_result",
          "data": {
            "text/plain": [
              "array([[1., 1., 1., 1., 1.],\n",
              "       [1., 1., 1., 1., 1.],\n",
              "       [1., 1., 1., 1., 1.]])"
            ]
          },
          "metadata": {},
          "execution_count": 19
        }
      ]
    },
    {
      "cell_type": "code",
      "source": [
        "# array of a particular value\n",
        "z = np.full((4,5),5)\n",
        "z"
      ],
      "metadata": {
        "colab": {
          "base_uri": "https://localhost:8080/"
        },
        "id": "XAktzkmFxdsF",
        "outputId": "47dd0884-a9e5-4dd2-ad71-5a5bf9415bad"
      },
      "execution_count": 21,
      "outputs": [
        {
          "output_type": "execute_result",
          "data": {
            "text/plain": [
              "array([[5, 5, 5, 5, 5],\n",
              "       [5, 5, 5, 5, 5],\n",
              "       [5, 5, 5, 5, 5],\n",
              "       [5, 5, 5, 5, 5]])"
            ]
          },
          "metadata": {},
          "execution_count": 21
        }
      ]
    },
    {
      "cell_type": "code",
      "source": [
        "# create an identity matrix\n",
        "i = np.eye(5)\n",
        "i"
      ],
      "metadata": {
        "colab": {
          "base_uri": "https://localhost:8080/"
        },
        "id": "ogn_ss-sxmK4",
        "outputId": "4e06e163-395d-4a55-d380-ecc92246e457"
      },
      "execution_count": 24,
      "outputs": [
        {
          "output_type": "execute_result",
          "data": {
            "text/plain": [
              "array([[1., 0., 0., 0., 0.],\n",
              "       [0., 1., 0., 0., 0.],\n",
              "       [0., 0., 1., 0., 0.],\n",
              "       [0., 0., 0., 1., 0.],\n",
              "       [0., 0., 0., 0., 1.]])"
            ]
          },
          "metadata": {},
          "execution_count": 24
        }
      ]
    },
    {
      "cell_type": "code",
      "source": [
        "# create a numpy array with random values\n",
        "r = np.random.random((4,5))\n",
        "r"
      ],
      "metadata": {
        "colab": {
          "base_uri": "https://localhost:8080/"
        },
        "id": "3EE4L9lexyl4",
        "outputId": "66b1fb81-c120-463b-df90-74c750f9df53"
      },
      "execution_count": 25,
      "outputs": [
        {
          "output_type": "execute_result",
          "data": {
            "text/plain": [
              "array([[0.49404702, 0.86339708, 0.99383926, 0.09164521, 0.61810149],\n",
              "       [0.42465096, 0.70885379, 0.55616055, 0.99739319, 0.92218587],\n",
              "       [0.84587583, 0.49675262, 0.28422527, 0.43502245, 0.0645335 ],\n",
              "       [0.8757277 , 0.44749666, 0.29110115, 0.10750127, 0.26849839]])"
            ]
          },
          "metadata": {},
          "execution_count": 25
        }
      ]
    },
    {
      "cell_type": "code",
      "source": [
        "# random integer values array within a specific range\n",
        "r = np.random.randint(10,100,(3,5))\n",
        "r"
      ],
      "metadata": {
        "colab": {
          "base_uri": "https://localhost:8080/"
        },
        "id": "IvYpJRAQx_g-",
        "outputId": "4f123121-4d5a-42db-c5d8-1c4e3aeee83f"
      },
      "execution_count": 26,
      "outputs": [
        {
          "output_type": "execute_result",
          "data": {
            "text/plain": [
              "array([[96, 86, 61, 68, 90],\n",
              "       [87, 77, 63, 29, 43],\n",
              "       [44, 79, 35, 29, 36]])"
            ]
          },
          "metadata": {},
          "execution_count": 26
        }
      ]
    },
    {
      "cell_type": "code",
      "source": [
        "# array of evenly spaced values --> specifying the number of values required\n",
        "arr = np.linspace(10,30,5, dtype = int)\n",
        "arr"
      ],
      "metadata": {
        "colab": {
          "base_uri": "https://localhost:8080/"
        },
        "id": "M0g6sfcPyU_0",
        "outputId": "3f919909-f6c1-4034-9893-0c750056b249"
      },
      "execution_count": 31,
      "outputs": [
        {
          "output_type": "execute_result",
          "data": {
            "text/plain": [
              "array([10, 15, 20, 25, 30])"
            ]
          },
          "metadata": {},
          "execution_count": 31
        }
      ]
    },
    {
      "cell_type": "code",
      "source": [
        "# array of evenly spaced values --> specifying the step\n",
        "arr = np.arange(10,100,5)\n",
        "arr"
      ],
      "metadata": {
        "colab": {
          "base_uri": "https://localhost:8080/"
        },
        "id": "Lfco8GrEyh5M",
        "outputId": "40ff1e5d-e437-4899-a5ca-eb0024d1c7e6"
      },
      "execution_count": 32,
      "outputs": [
        {
          "output_type": "execute_result",
          "data": {
            "text/plain": [
              "array([10, 15, 20, 25, 30, 35, 40, 45, 50, 55, 60, 65, 70, 75, 80, 85, 90,\n",
              "       95])"
            ]
          },
          "metadata": {},
          "execution_count": 32
        }
      ]
    },
    {
      "cell_type": "code",
      "source": [
        "# convert a list to a numpy array\n",
        "list2 = [9,8,7,6,5,4,3,2,1]\n",
        "\n",
        "arr = np.asarray(list2)\n",
        "arr"
      ],
      "metadata": {
        "colab": {
          "base_uri": "https://localhost:8080/"
        },
        "id": "0l5v9mCRzD7V",
        "outputId": "59ca71bf-cf61-4a64-c760-ad20e74cc15f"
      },
      "execution_count": 33,
      "outputs": [
        {
          "output_type": "execute_result",
          "data": {
            "text/plain": [
              "array([9, 8, 7, 6, 5, 4, 3, 2, 1])"
            ]
          },
          "metadata": {},
          "execution_count": 33
        }
      ]
    },
    {
      "cell_type": "markdown",
      "source": [
        "Mathematical Operaion in Numpy"
      ],
      "metadata": {
        "id": "nRAn75_Gz2wV"
      }
    },
    {
      "cell_type": "code",
      "source": [
        "a = np.random.randint(0,10,(3,3))\n",
        "b = np.random.randint(10,20,(3,3))"
      ],
      "metadata": {
        "id": "MBBVALr4zewl"
      },
      "execution_count": 35,
      "outputs": []
    },
    {
      "cell_type": "code",
      "source": [
        "print('a+b : ' , a+b)\n",
        "print('b-a : ' ,b-a)\n",
        "print('a*b : ' ,a*b)\n",
        "print('b/a: ' ,b/a)"
      ],
      "metadata": {
        "colab": {
          "base_uri": "https://localhost:8080/"
        },
        "id": "cPQhPD-x0I64",
        "outputId": "d91ade3d-d9cc-4cc8-e122-8ce4b8ef2dff"
      },
      "execution_count": 38,
      "outputs": [
        {
          "output_type": "stream",
          "name": "stdout",
          "text": [
            "a+b :  [[14 16 18]\n",
            " [23 22 11]\n",
            " [20 17 23]]\n",
            "b-a :  [[12  8  4]\n",
            " [ 9 10 11]\n",
            " [16  3 13]]\n",
            "a*b :  [[ 13  48  77]\n",
            " [112  96   0]\n",
            " [ 36  70  90]]\n",
            "b/a:  [[13.          3.          1.57142857]\n",
            " [ 2.28571429  2.66666667         inf]\n",
            " [ 9.          1.42857143  3.6       ]]\n"
          ]
        },
        {
          "output_type": "stream",
          "name": "stderr",
          "text": [
            "/usr/local/lib/python3.7/dist-packages/ipykernel_launcher.py:4: RuntimeWarning: divide by zero encountered in true_divide\n",
            "  after removing the cwd from sys.path.\n"
          ]
        }
      ]
    },
    {
      "cell_type": "code",
      "source": [
        "print(np.add(a,b))\n",
        "print(np.subtract(a,b))\n",
        "print(np.multiply(a,b))\n",
        "print(np.divide(a,b))"
      ],
      "metadata": {
        "colab": {
          "base_uri": "https://localhost:8080/"
        },
        "id": "6xj4iYVj0Wll",
        "outputId": "146a8ab7-1622-4e9c-b914-c1c2bd9a2660"
      },
      "execution_count": 39,
      "outputs": [
        {
          "output_type": "stream",
          "name": "stdout",
          "text": [
            "[[14 16 18]\n",
            " [23 22 11]\n",
            " [20 17 23]]\n",
            "[[-12  -8  -4]\n",
            " [ -9 -10 -11]\n",
            " [-16  -3 -13]]\n",
            "[[ 13  48  77]\n",
            " [112  96   0]\n",
            " [ 36  70  90]]\n",
            "[[0.07692308 0.33333333 0.63636364]\n",
            " [0.4375     0.375      0.        ]\n",
            " [0.11111111 0.7        0.27777778]]\n"
          ]
        }
      ]
    },
    {
      "cell_type": "markdown",
      "source": [
        "Array Manipulation"
      ],
      "metadata": {
        "id": "ik7QZtt30zi9"
      }
    },
    {
      "cell_type": "code",
      "source": [
        "arr = np.random.randint(0,10,(2,3))\n",
        "print(arr)\n",
        "print(arr.shape)"
      ],
      "metadata": {
        "colab": {
          "base_uri": "https://localhost:8080/"
        },
        "id": "XOod1Mgg0qji",
        "outputId": "a667fd12-d0a3-4863-c633-30583eee902e"
      },
      "execution_count": 40,
      "outputs": [
        {
          "output_type": "stream",
          "name": "stdout",
          "text": [
            "[[4 8 2]\n",
            " [2 0 9]]\n",
            "(2, 3)\n"
          ]
        }
      ]
    },
    {
      "cell_type": "code",
      "source": [
        "# Transpose\n",
        "trans = np.transpose(arr)\n",
        "trans"
      ],
      "metadata": {
        "colab": {
          "base_uri": "https://localhost:8080/"
        },
        "id": "flYS-6jH0_yD",
        "outputId": "adf99afe-f2a8-4148-c64d-413fc1433283"
      },
      "execution_count": 42,
      "outputs": [
        {
          "output_type": "execute_result",
          "data": {
            "text/plain": [
              "array([[4, 2],\n",
              "       [8, 0],\n",
              "       [2, 9]])"
            ]
          },
          "metadata": {},
          "execution_count": 42
        }
      ]
    },
    {
      "cell_type": "code",
      "source": [
        "# OR\n",
        "trans = arr.T\n",
        "trans"
      ],
      "metadata": {
        "colab": {
          "base_uri": "https://localhost:8080/"
        },
        "id": "6QrCnKqo1C2I",
        "outputId": "e2fc72f2-6923-4388-ae1c-4b2047f98119"
      },
      "execution_count": 43,
      "outputs": [
        {
          "output_type": "execute_result",
          "data": {
            "text/plain": [
              "array([[4, 2],\n",
              "       [8, 0],\n",
              "       [2, 9]])"
            ]
          },
          "metadata": {},
          "execution_count": 43
        }
      ]
    },
    {
      "cell_type": "code",
      "source": [
        "# Reshaping the array\n",
        "res = arr.reshape(3,2)\n",
        "res"
      ],
      "metadata": {
        "colab": {
          "base_uri": "https://localhost:8080/"
        },
        "id": "nI1GebzH1e6t",
        "outputId": "d7096fb9-ce49-42f5-b177-d7910bb4d9e6"
      },
      "execution_count": 45,
      "outputs": [
        {
          "output_type": "execute_result",
          "data": {
            "text/plain": [
              "array([[4, 8],\n",
              "       [2, 2],\n",
              "       [0, 9]])"
            ]
          },
          "metadata": {},
          "execution_count": 45
        }
      ]
    },
    {
      "cell_type": "code",
      "source": [],
      "metadata": {
        "id": "C82LZyYd1rEX"
      },
      "execution_count": null,
      "outputs": []
    }
  ]
}